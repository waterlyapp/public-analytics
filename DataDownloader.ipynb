{
 "cells": [
  {
   "metadata": {},
   "cell_type": "markdown",
   "source": [
    "# Project Data Downloader\n",
    "\n",
    "This notebook will fetch EPA data ZIP files and extract them into an `EPA_Data/` subdirectory.\n",
    "\n",
    "**Note:** Some file sizes are quite large and the processing may take a bit.\n"
   ],
   "id": "ea7706ef2fd3ab80"
  },
  {
   "metadata": {
    "ExecuteTime": {
     "end_time": "2025-05-05T20:48:44.657748Z",
     "start_time": "2025-05-05T20:48:44.608101Z"
    }
   },
   "cell_type": "code",
   "source": [
    "# 1. Imports and setup\n",
    "\n",
    "import os\n",
    "import requests\n",
    "import zipfile\n",
    "from io import BytesIO\n",
    "\n",
    "# Directory where all EPA data will go\n",
    "DATA_DIR = \"EPA_Data\"\n",
    "\n",
    "# Ensure the target directory exists\n",
    "os.makedirs(DATA_DIR, exist_ok=True)\n",
    "print(f\"Using data directory: {DATA_DIR}\")"
   ],
   "id": "a618339d4a91ad65",
   "outputs": [
    {
     "name": "stdout",
     "output_type": "stream",
     "text": [
      "Using data directory: EPA_Data\n"
     ]
    },
    {
     "name": "stderr",
     "output_type": "stream",
     "text": [
      "/Users/mitchellburns/DataspellProjects/public-analytics/.venv/lib/python3.9/site-packages/urllib3/__init__.py:35: NotOpenSSLWarning: urllib3 v2 only supports OpenSSL 1.1.1+, currently the 'ssl' module is compiled with 'LibreSSL 2.8.3'. See: https://github.com/urllib3/urllib3/issues/3020\n",
      "  warnings.warn(\n"
     ]
    }
   ],
   "execution_count": 1
  },
  {
   "metadata": {
    "ExecuteTime": {
     "end_time": "2025-05-05T20:48:47.835444Z",
     "start_time": "2025-05-05T20:48:47.832689Z"
    }
   },
   "cell_type": "code",
   "source": [
    "# 2. List of EPA download URLs\n",
    "\n",
    "urls = [\n",
    "    \"https://echo.epa.gov/files/echodownloads/SDWA_latest_downloads.zip\",  # drinking water, PWSIDs\n",
    "    \"https://echo.epa.gov/files/echodownloads/npdes_downloads.zip\", # npdes part 1\n",
    "    \"https://echo.epa.gov/files/echodownloads/npdes_eff_downloads.zip\"  # npdes part 2 (this one's a doozy at 1.6gb!)\n",
    "    #\"https://www2.census.gov/programs-surveys/popest/tables/2020-2024/state/totals/NST-EST2024-POP.xlsx\"\n",
    "]"
   ],
   "id": "d59ec827fc959a58",
   "outputs": [],
   "execution_count": 2
  },
  {
   "metadata": {
    "ExecuteTime": {
     "end_time": "2025-05-05T20:48:49.479444Z",
     "start_time": "2025-05-05T20:48:49.473339Z"
    }
   },
   "cell_type": "code",
   "source": [
    "# 3. Download & extract function\n",
    "\n",
    "def download_and_extract_zip(url: str, extract_to: str = DATA_DIR):\n",
    "    print(f\"Downloading: {url}\")\n",
    "    resp = requests.get(url, stream=True)\n",
    "    resp.raise_for_status()\n",
    "\n",
    "    # Use BytesIO to treat downloaded bytes as file-like object\n",
    "    with zipfile.ZipFile(BytesIO(resp.content)) as z:\n",
    "        print(f\" → extracting {len(z.namelist())} files into '{extract_to}/'\")\n",
    "        z.extractall(extract_to)\n",
    "    print(\" ✔ Done\\n\")"
   ],
   "id": "ba6cee6a6249265b",
   "outputs": [],
   "execution_count": 3
  },
  {
   "metadata": {
    "ExecuteTime": {
     "end_time": "2025-05-05T23:18:48.173478Z",
     "start_time": "2025-05-05T23:11:22.929969Z"
    }
   },
   "cell_type": "code",
   "source": [
    "# 4. Iterate through all URLs\n",
    "\n",
    "for link in urls:\n",
    "    try:\n",
    "        download_and_extract_zip(link)\n",
    "    except Exception as e:\n",
    "        print(f\"✖ Failed to process {link}: {e}\")"
   ],
   "id": "391a3729fe806769",
   "outputs": [
    {
     "name": "stdout",
     "output_type": "stream",
     "text": [
      "Downloading: https://echo.epa.gov/files/echodownloads/SDWA_latest_downloads.zip\n",
      " → extracting 11 files into 'EPA_Data/'\n",
      " ✔ Done\n",
      "\n",
      "Downloading: https://echo.epa.gov/files/echodownloads/npdes_downloads.zip\n",
      " → extracting 15 files into 'EPA_Data/'\n",
      " ✔ Done\n",
      "\n",
      "Downloading: https://echo.epa.gov/files/echodownloads/npdes_eff_downloads.zip\n",
      " → extracting 1 files into 'EPA_Data/'\n",
      " ✔ Done\n",
      "\n"
     ]
    }
   ],
   "execution_count": 5
  },
  {
   "metadata": {
    "ExecuteTime": {
     "end_time": "2025-04-30T20:43:52.560258Z",
     "start_time": "2025-04-30T20:43:43.043278Z"
    }
   },
   "cell_type": "code",
   "source": [
    "\n",
    "# Get shape file from PWSID boundary mapping github project (extra step in download for api)\n",
    "api_url = (\n",
    "    \"https://api.github.com/repos/USEPA/ORD_SAB_Model/contents/Output_Data/EPA_CWS_V1.zip?ref=main\"\n",
    ")\n",
    "meta = requests.get(api_url).json()\n",
    "download_url = meta[\"download_url\"]\n",
    "\n",
    "# 2. Download & unpack\n",
    "r = requests.get(download_url)\n",
    "r.raise_for_status()\n",
    "with zipfile.ZipFile(BytesIO(r.content)) as z:\n",
    "    z.extractall(\"./BoundaryOutputData\")"
   ],
   "id": "441189e02ee5c26e",
   "outputs": [],
   "execution_count": 5
  }
 ],
 "metadata": {
  "kernelspec": {
   "display_name": "Python 3",
   "language": "python",
   "name": "python3"
  },
  "language_info": {
   "codemirror_mode": {
    "name": "ipython",
    "version": 2
   },
   "file_extension": ".py",
   "mimetype": "text/x-python",
   "name": "python",
   "nbconvert_exporter": "python",
   "pygments_lexer": "ipython2",
   "version": "2.7.6"
  }
 },
 "nbformat": 4,
 "nbformat_minor": 5
}
