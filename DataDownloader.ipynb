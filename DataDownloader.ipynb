{
 "cells": [
  {
   "metadata": {},
   "cell_type": "markdown",
   "source": "",
   "id": "872aec815b10aec9"
  },
  {
   "metadata": {},
   "cell_type": "markdown",
   "source": [
    "# Project Data Downloader\n",
    "\n",
    "This notebook will fetch EPA data ZIP files and extract them into an `EPA_Data/` subdirectory.\n",
    "\n",
    "**Note:** Some file sizes are quite large and the processing may take a bit.\n"
   ],
   "id": "ea7706ef2fd3ab80"
  },
  {
   "metadata": {
    "ExecuteTime": {
     "end_time": "2025-04-30T14:19:10.728382Z",
     "start_time": "2025-04-30T14:19:10.724763Z"
    }
   },
   "cell_type": "code",
   "source": [
    "# 1. Imports and setup\n",
    "\n",
    "import os\n",
    "import requests\n",
    "import zipfile\n",
    "from io import BytesIO\n",
    "\n",
    "# Directory where all EPA data will go\n",
    "DATA_DIR = \"EPA_Data\"\n",
    "\n",
    "# Ensure the target directory exists\n",
    "os.makedirs(DATA_DIR, exist_ok=True)\n",
    "print(f\"Using data directory: {DATA_DIR}\")\n"
   ],
   "id": "a618339d4a91ad65",
   "outputs": [
    {
     "name": "stdout",
     "output_type": "stream",
     "text": [
      "Using data directory: EPA_Data\n"
     ]
    }
   ],
   "execution_count": 3
  },
  {
   "metadata": {
    "ExecuteTime": {
     "end_time": "2025-04-30T14:33:34.988113Z",
     "start_time": "2025-04-30T14:33:34.985314Z"
    }
   },
   "cell_type": "code",
   "source": [
    "# 2. List of EPA download URLs\n",
    "\n",
    "urls = [\n",
    "    \"https://echo.epa.gov/files/echodownloads/SDWA_latest_downloads.zip\",  # drinking water, PWSIDs\n",
    "    \"https://echo.epa.gov/files/echodownloads/npdes_downloads.zip\", # npdes part 1\n",
    "    \"https://echo.epa.gov/files/echodownloads/npdes_eff_downloads.zip\"  # npdes part 2 (this one's a doozy at 1.6gb!)\n",
    "    #\"https://raw.githubusercontent.com/USEPA/ORD_SAB_Model/main/Output_Data/EPA_CWS_V1.zip\"\n",
    "]\n"
   ],
   "id": "d59ec827fc959a58",
   "outputs": [],
   "execution_count": 10
  },
  {
   "metadata": {
    "ExecuteTime": {
     "end_time": "2025-04-30T14:19:45.938379Z",
     "start_time": "2025-04-30T14:19:45.935432Z"
    }
   },
   "cell_type": "code",
   "source": [
    "# 3. Download & extract function\n",
    "\n",
    "def download_and_extract_zip(url: str, extract_to: str = DATA_DIR):\n",
    "    print(f\"Downloading: {url}\")\n",
    "    resp = requests.get(url, stream=True)\n",
    "    resp.raise_for_status()\n",
    "\n",
    "    # Use BytesIO to treat downloaded bytes as file-like object\n",
    "    with zipfile.ZipFile(BytesIO(resp.content)) as z:\n",
    "        print(f\" → extracting {len(z.namelist())} files into '{extract_to}/'\")\n",
    "        z.extractall(extract_to)\n",
    "    print(\" ✔ Done\\n\")\n"
   ],
   "id": "ba6cee6a6249265b",
   "outputs": [],
   "execution_count": 5
  },
  {
   "metadata": {
    "ExecuteTime": {
     "end_time": "2025-04-30T14:33:42.581721Z",
     "start_time": "2025-04-30T14:33:42.306495Z"
    }
   },
   "cell_type": "code",
   "source": [
    "# 4. Iterate through all URLs\n",
    "\n",
    "for link in urls:\n",
    "    try:\n",
    "        download_and_extract_zip(link)\n",
    "    except Exception as e:\n",
    "        print(f\"✖ Failed to process {link}: {e}\")\n"
   ],
   "id": "391a3729fe806769",
   "outputs": [
    {
     "name": "stdout",
     "output_type": "stream",
     "text": [
      "Downloading: https://raw.githubusercontent.com/USEPA/ORD_SAB_Model/main/Output_Data/EPA_CWS_V1.zip\n",
      "✖ Failed to process https://raw.githubusercontent.com/USEPA/ORD_SAB_Model/main/Output_Data/EPA_CWS_V1.zip: File is not a zip file\n"
     ]
    }
   ],
   "execution_count": 11
  },
  {
   "metadata": {
    "ExecuteTime": {
     "end_time": "2025-04-30T14:37:10.432345Z",
     "start_time": "2025-04-30T14:37:02.073595Z"
    }
   },
   "cell_type": "code",
   "source": [
    "\n",
    "# Get shape file from PWSID boundary mapping github project (extra step in download for api)\n",
    "api_url = (\n",
    "    \"https://api.github.com/repos/USEPA/ORD_SAB_Model/contents/Output_Data/EPA_CWS_V1.zip?ref=main\"\n",
    ")\n",
    "meta = requests.get(api_url).json()\n",
    "download_url = meta[\"download_url\"]\n",
    "\n",
    "# 2. Download & unpack\n",
    "r = requests.get(download_url)\n",
    "r.raise_for_status()\n",
    "with zipfile.ZipFile(BytesIO(r.content)) as z:\n",
    "    z.extractall(DATA_DIR)\n"
   ],
   "id": "441189e02ee5c26e",
   "outputs": [],
   "execution_count": 14
  },
  {
   "metadata": {},
   "cell_type": "code",
   "outputs": [],
   "execution_count": null,
   "source": "",
   "id": "28ce0289c8d1bbd5"
  }
 ],
 "metadata": {
  "kernelspec": {
   "display_name": "Python 3",
   "language": "python",
   "name": "python3"
  },
  "language_info": {
   "codemirror_mode": {
    "name": "ipython",
    "version": 2
   },
   "file_extension": ".py",
   "mimetype": "text/x-python",
   "name": "python",
   "nbconvert_exporter": "python",
   "pygments_lexer": "ipython2",
   "version": "2.7.6"
  }
 },
 "nbformat": 4,
 "nbformat_minor": 5
}
